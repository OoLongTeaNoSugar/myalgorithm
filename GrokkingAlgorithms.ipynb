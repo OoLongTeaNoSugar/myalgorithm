{
 "cells": [
  {
   "cell_type": "markdown",
   "metadata": {},
   "source": [
    "#Grokking Algorithms"
   ]
  },
  {
   "cell_type": "markdown",
   "metadata": {
    "collapsed": true
   },
   "source": [
    "##大O表示法\n",
    "用$O(n)$表示算法的复杂度，$n$为操作数\n",
    "比如：二分查找，对于检查一个长度为$n$的列表，需要$log(n)$次操作，所以复杂度为$O(log n)$"
   ]
  },
  {
   "cell_type": "code",
   "execution_count": 3,
   "metadata": {},
   "outputs": [
    {
     "name": "stdout",
     "output_type": "stream",
     "text": [
      "1\nNone\n"
     ]
    }
   ],
   "source": [
    "#encoding: utf-8\n",
    "# 二分查找\n",
    "def binary_search(list, item):\n",
    "    low = 0\n",
    "    high = len(list) - 1\n",
    "    \n",
    "    while low <= high:\n",
    "        mid = (low + high)/2\n",
    "        guess = list[mid]\n",
    "        if guess == item:\n",
    "            return mid\n",
    "        if guess > item:\n",
    "            high = mid-1\n",
    "        else:\n",
    "            low = mid + 1\n",
    "    return None\n",
    "\n",
    "test_list = [1,3,5,7,9]\n",
    "\n",
    "print binary_search(test_list, 3)\n",
    "print binary_search(test_list, 0)\n",
    "    "
   ]
  },
  {
   "cell_type": "markdown",
   "metadata": {},
   "source": [
    "##D&C\n",
    "divide and conquer\t"
   ]
  },
  {
   "cell_type": "code",
   "execution_count": 1,
   "metadata": {},
   "outputs": [
    {
     "name": "stdout",
     "output_type": "stream",
     "text": [
      "[1, 2, 3, 4, 5]\n"
     ]
    }
   ],
   "source": [
    "#encoding: utf-8\n",
    "#quik sort\n",
    "def QuickSort(array):\n",
    "    if len(array) < 2:\n",
    "        return array\n",
    "    else:\n",
    "        pivot = array[0] #recursion condition基准值选取第一个数\n",
    "        less = [i for i in array[1:] if i <= pivot]#小于基准值的数组\n",
    "        \n",
    "        high = [i for i in array[1:] if i > pivot]# 大于基准值的数组\n",
    "        \n",
    "        return QuickSort(less) + [pivot] + QuickSort(high)\n",
    "print QuickSort([1,3,4,2,5])"
   ]
  },
  {
   "cell_type": "markdown",
   "metadata": {},
   "source": [
    "##散列表\n",
    "是哈希表吗？\n",
    "比如：dict\n"
   ]
  },
  {
   "cell_type": "markdown",
   "metadata": {},
   "source": [
    "#广度优先探索(图算法)\n",
    "##队列和栈的区别：\n",
    ">队列：先进先出\n",
    ">栈：后进先出\n"
   ]
  },
  {
   "cell_type": "code",
   "execution_count": 2,
   "metadata": {},
   "outputs": [],
   "source": []
  },
  {
   "cell_type": "code",
   "execution_count": null,
   "metadata": {},
   "outputs": [],
   "source": []
  }
 ],
 "metadata": {
  "kernelspec": {
   "display_name": "Python 2",
   "language": "python",
   "name": "python2"
  },
  "language_info": {
   "codemirror_mode": {
    "name": "ipython",
    "version": 2
   },
   "file_extension": ".py",
   "mimetype": "text/x-python",
   "name": "python",
   "nbconvert_exporter": "python",
   "pygments_lexer": "ipython2",
   "version": "2.7.6"
  }
 },
 "nbformat": 4,
 "nbformat_minor": 0
}
